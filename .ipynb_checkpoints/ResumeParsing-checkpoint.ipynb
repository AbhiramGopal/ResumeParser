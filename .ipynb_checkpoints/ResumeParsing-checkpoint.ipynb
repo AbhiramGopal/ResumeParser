{
 "cells": [
  {
   "cell_type": "code",
   "execution_count": 34,
   "metadata": {},
   "outputs": [],
   "source": [
    "from pyresparser import ResumeParser\n",
    "from resume_parser import resumeparse\n",
    "import \n",
    "import os\n",
    "import docx2txt\n",
    "import requests\n",
    "import pandas as pd\n",
    "from pdfminer.high_level import extract_text"
   ]
  },
  {
   "cell_type": "code",
   "execution_count": 33,
   "metadata": {},
   "outputs": [],
   "source": [
    "## Looping through the Files in Resume Directory"
   ]
  },
  {
   "cell_type": "code",
   "execution_count": 46,
   "metadata": {},
   "outputs": [
    {
     "name": "stdout",
     "output_type": "stream",
     "text": [
      "AbhiramResume.docx\n"
     ]
    },
    {
     "name": "stderr",
     "output_type": "stream",
     "text": [
      "C:\\ProgramData\\Anaconda3\\lib\\site-packages\\spacy\\util.py:275: UserWarning: [W031] Model 'en_training' (0.0.0) requires spaCy v2.1 and is incompatible with the current spaCy version (2.3.5). This may lead to unexpected results or runtime errors. To resolve this, download a newer compatible model or retrain your custom model with the current spaCy version. For more details and available updates, run: python -m spacy validate\n",
      "  warnings.warn(warn_msg)\n"
     ]
    },
    {
     "name": "stdout",
     "output_type": "stream",
     "text": [
      "NikResume.pdf\n",
      "SnehalGhatpande.pdf\n"
     ]
    }
   ],
   "source": [
    "def extract_text_from_docx(docx_path):\n",
    "    txt = docx2txt.process(docx_path)\n",
    "    if txt:\n",
    "        return txt.replace('\\t', ' ')\n",
    "    return None\n",
    "\n",
    "def extract_text_from_pdf(pdf_path):\n",
    "    return extract_text(pdf_path)\n",
    "\n",
    "directory = r'Resumes/'\n",
    "pdf = []\n",
    "docs = []\n",
    "pyresparser = []\n",
    "resumeparser = []\n",
    "for filename in os.listdir(directory):\n",
    "    print(filename)\n",
    "    data = {}\n",
    "    if filename.endswith(\".docx\"):\n",
    "        path = os.path.join(directory, filename)\n",
    "        \n",
    "        data = resumeparse.read_file(path)\n",
    "        data['text'] = extract_text_from_docx(path)\n",
    "        \n",
    "              \n",
    "        resumeparser.append(data)\n",
    "        \n",
    "        data = ResumeParser(path).get_extracted_data()\n",
    "        data['text'] = extract_text_from_docx(path)\n",
    "        \n",
    "        pyresparser.append(data)\n",
    "        \n",
    "        \n",
    "        \n",
    "    elif filename.endswith(\".pdf\"):\n",
    "\n",
    "               \n",
    "        path = os.path.join(directory, filename)\n",
    "        \n",
    "        data = resumeparse.read_file(path)\n",
    "        data['text'] = extract_text_from_pdf(path)\n",
    "        \n",
    "              \n",
    "        resumeparser.append(data)\n",
    "        \n",
    "        data = ResumeParser(path).get_extracted_data()\n",
    "        data['text'] = extract_text_from_pdf(path)\n",
    "        \n",
    "        pyresparser.append(data)\n",
    "\n",
    "    else:\n",
    "        continue\n",
    "    \n",
    "\n",
    "\n"
   ]
  },
  {
   "cell_type": "code",
   "execution_count": 47,
   "metadata": {},
   "outputs": [
    {
     "data": {
      "text/html": [
       "<div>\n",
       "<style scoped>\n",
       "    .dataframe tbody tr th:only-of-type {\n",
       "        vertical-align: middle;\n",
       "    }\n",
       "\n",
       "    .dataframe tbody tr th {\n",
       "        vertical-align: top;\n",
       "    }\n",
       "\n",
       "    .dataframe thead th {\n",
       "        text-align: right;\n",
       "    }\n",
       "</style>\n",
       "<table border=\"1\" class=\"dataframe\">\n",
       "  <thead>\n",
       "    <tr style=\"text-align: right;\">\n",
       "      <th></th>\n",
       "      <th>name</th>\n",
       "      <th>email</th>\n",
       "      <th>mobile_number</th>\n",
       "      <th>skills</th>\n",
       "      <th>college_name</th>\n",
       "      <th>degree</th>\n",
       "      <th>designation</th>\n",
       "      <th>experience</th>\n",
       "      <th>company_names</th>\n",
       "      <th>no_of_pages</th>\n",
       "      <th>total_experience</th>\n",
       "      <th>text</th>\n",
       "    </tr>\n",
       "  </thead>\n",
       "  <tbody>\n",
       "    <tr>\n",
       "      <th>0</th>\n",
       "      <td>ABHIRAM GOPAL</td>\n",
       "      <td>agopal@syr.edu</td>\n",
       "      <td>315-991-0963</td>\n",
       "      <td>[Data analysis, Sql, Programming, Technical, A...</td>\n",
       "      <td>None</td>\n",
       "      <td>None</td>\n",
       "      <td>[Solutions Architect Associate, Project Lead]</td>\n",
       "      <td>[]</td>\n",
       "      <td>None</td>\n",
       "      <td>NaN</td>\n",
       "      <td>0.00</td>\n",
       "      <td>ABHIRAM GOPAL   \\n315-991-0963 ● agopal@syr.ed...</td>\n",
       "    </tr>\n",
       "    <tr>\n",
       "      <th>1</th>\n",
       "      <td>Nikhil Bharadwaj</td>\n",
       "      <td>official.nikhil3639@gmail.com</td>\n",
       "      <td>450-3272</td>\n",
       "      <td>[Algorithms, Sql, Programming, Technical, Acce...</td>\n",
       "      <td>None</td>\n",
       "      <td>None</td>\n",
       "      <td>None</td>\n",
       "      <td>[Software Engineer Intern, •  Optimized core n...</td>\n",
       "      <td>None</td>\n",
       "      <td>1.0</td>\n",
       "      <td>2.17</td>\n",
       "      <td>Nikhil Bharadwaj \\nofficial.nikhil3639@gmail.c...</td>\n",
       "    </tr>\n",
       "    <tr>\n",
       "      <th>2</th>\n",
       "      <td>Snehal Ghatpande</td>\n",
       "      <td>sghatpan@syr.edu</td>\n",
       "      <td>315 278 5618</td>\n",
       "      <td>[Information technology, Business intelligence...</td>\n",
       "      <td>None</td>\n",
       "      <td>[M.S. in Information Management, B.E. in Infor...</td>\n",
       "      <td>[Data Analyst]</td>\n",
       "      <td>[Data Analyst, iConsult Collaborative, Syracus...</td>\n",
       "      <td>[Oracle, Microsoft]</td>\n",
       "      <td>1.0</td>\n",
       "      <td>3.50</td>\n",
       "      <td>Snehal Ghatpande \\n\\nwww.linkedin.com/in/ghatp...</td>\n",
       "    </tr>\n",
       "  </tbody>\n",
       "</table>\n",
       "</div>"
      ],
      "text/plain": [
       "               name                          email mobile_number  \\\n",
       "0     ABHIRAM GOPAL                 agopal@syr.edu  315-991-0963   \n",
       "1  Nikhil Bharadwaj  official.nikhil3639@gmail.com      450-3272   \n",
       "2  Snehal Ghatpande               sghatpan@syr.edu  315 278 5618   \n",
       "\n",
       "                                              skills college_name  \\\n",
       "0  [Data analysis, Sql, Programming, Technical, A...         None   \n",
       "1  [Algorithms, Sql, Programming, Technical, Acce...         None   \n",
       "2  [Information technology, Business intelligence...         None   \n",
       "\n",
       "                                              degree  \\\n",
       "0                                               None   \n",
       "1                                               None   \n",
       "2  [M.S. in Information Management, B.E. in Infor...   \n",
       "\n",
       "                                     designation  \\\n",
       "0  [Solutions Architect Associate, Project Lead]   \n",
       "1                                           None   \n",
       "2                                 [Data Analyst]   \n",
       "\n",
       "                                          experience        company_names  \\\n",
       "0                                                 []                 None   \n",
       "1  [Software Engineer Intern, •  Optimized core n...                 None   \n",
       "2  [Data Analyst, iConsult Collaborative, Syracus...  [Oracle, Microsoft]   \n",
       "\n",
       "   no_of_pages  total_experience  \\\n",
       "0          NaN              0.00   \n",
       "1          1.0              2.17   \n",
       "2          1.0              3.50   \n",
       "\n",
       "                                                text  \n",
       "0  ABHIRAM GOPAL   \\n315-991-0963 ● agopal@syr.ed...  \n",
       "1  Nikhil Bharadwaj \\nofficial.nikhil3639@gmail.c...  \n",
       "2  Snehal Ghatpande \\n\\nwww.linkedin.com/in/ghatp...  "
      ]
     },
     "execution_count": 47,
     "metadata": {},
     "output_type": "execute_result"
    }
   ],
   "source": [
    "pyres_df = pd.DataFrame(pyresparser)\n",
    "pyres_df"
   ]
  },
  {
   "cell_type": "code",
   "execution_count": 48,
   "metadata": {},
   "outputs": [
    {
     "data": {
      "text/html": [
       "<div>\n",
       "<style scoped>\n",
       "    .dataframe tbody tr th:only-of-type {\n",
       "        vertical-align: middle;\n",
       "    }\n",
       "\n",
       "    .dataframe tbody tr th {\n",
       "        vertical-align: top;\n",
       "    }\n",
       "\n",
       "    .dataframe thead th {\n",
       "        text-align: right;\n",
       "    }\n",
       "</style>\n",
       "<table border=\"1\" class=\"dataframe\">\n",
       "  <thead>\n",
       "    <tr style=\"text-align: right;\">\n",
       "      <th></th>\n",
       "      <th>email</th>\n",
       "      <th>phone</th>\n",
       "      <th>name</th>\n",
       "      <th>total_exp</th>\n",
       "      <th>university</th>\n",
       "      <th>designition</th>\n",
       "      <th>degree</th>\n",
       "      <th>skills</th>\n",
       "      <th>Companies worked at</th>\n",
       "      <th>text</th>\n",
       "    </tr>\n",
       "  </thead>\n",
       "  <tbody>\n",
       "    <tr>\n",
       "      <th>0</th>\n",
       "      <td>agopal@syr.edu</td>\n",
       "      <td>315-991-0963</td>\n",
       "      <td></td>\n",
       "      <td>4</td>\n",
       "      <td>[syracuse university]</td>\n",
       "      <td>[industrial engineering, python developer, par...</td>\n",
       "      <td>[]</td>\n",
       "      <td>[&amp; Relevant Libraries: Python,  Pandas,  Tenso...</td>\n",
       "      <td>[2U Inc]</td>\n",
       "      <td>ABHIRAM GOPAL   \\n315-991-0963 ● agopal@syr.ed...</td>\n",
       "    </tr>\n",
       "    <tr>\n",
       "      <th>1</th>\n",
       "      <td>official.nikhil3639@gmail.com</td>\n",
       "      <td>(315)450-3272</td>\n",
       "      <td>Nikhil Bharadwaj</td>\n",
       "      <td>5</td>\n",
       "      <td>[syracuse university]</td>\n",
       "      <td>[software engineer, software engineer intern, ...</td>\n",
       "      <td>[]</td>\n",
       "      <td>[: C++,  Python,  JavaScript,  C,  SQL,  NoSQL...</td>\n",
       "      <td>[TruWeather Solutions]</td>\n",
       "      <td>Nikhil Bharadwaj \\nofficial.nikhil3639@gmail.c...</td>\n",
       "    </tr>\n",
       "    <tr>\n",
       "      <th>2</th>\n",
       "      <td>sghatpan@syr.edu</td>\n",
       "      <td>315 278 5618</td>\n",
       "      <td>Snehal Ghatpande</td>\n",
       "      <td>2</td>\n",
       "      <td>[university of pune, syracuse university]</td>\n",
       "      <td>[excel specialist, tableau analyst, data analy...</td>\n",
       "      <td>[M.S. in Information Management, B.E. in Infor...</td>\n",
       "      <td>[/ CERTIFICATIONS: R,  Python,  SQL, Databases...</td>\n",
       "      <td>[TruWeather Solutions LLC]</td>\n",
       "      <td>Snehal Ghatpande \\n\\nwww.linkedin.com/in/ghatp...</td>\n",
       "    </tr>\n",
       "  </tbody>\n",
       "</table>\n",
       "</div>"
      ],
      "text/plain": [
       "                           email          phone              name  total_exp  \\\n",
       "0                 agopal@syr.edu   315-991-0963                            4   \n",
       "1  official.nikhil3639@gmail.com  (315)450-3272  Nikhil Bharadwaj          5   \n",
       "2               sghatpan@syr.edu   315 278 5618  Snehal Ghatpande          2   \n",
       "\n",
       "                                  university  \\\n",
       "0                      [syracuse university]   \n",
       "1                      [syracuse university]   \n",
       "2  [university of pune, syracuse university]   \n",
       "\n",
       "                                         designition  \\\n",
       "0  [industrial engineering, python developer, par...   \n",
       "1  [software engineer, software engineer intern, ...   \n",
       "2  [excel specialist, tableau analyst, data analy...   \n",
       "\n",
       "                                              degree  \\\n",
       "0                                                 []   \n",
       "1                                                 []   \n",
       "2  [M.S. in Information Management, B.E. in Infor...   \n",
       "\n",
       "                                              skills  \\\n",
       "0  [& Relevant Libraries: Python,  Pandas,  Tenso...   \n",
       "1  [: C++,  Python,  JavaScript,  C,  SQL,  NoSQL...   \n",
       "2  [/ CERTIFICATIONS: R,  Python,  SQL, Databases...   \n",
       "\n",
       "          Companies worked at  \\\n",
       "0                    [2U Inc]   \n",
       "1      [TruWeather Solutions]   \n",
       "2  [TruWeather Solutions LLC]   \n",
       "\n",
       "                                                text  \n",
       "0  ABHIRAM GOPAL   \\n315-991-0963 ● agopal@syr.ed...  \n",
       "1  Nikhil Bharadwaj \\nofficial.nikhil3639@gmail.c...  \n",
       "2  Snehal Ghatpande \\n\\nwww.linkedin.com/in/ghatp...  "
      ]
     },
     "execution_count": 48,
     "metadata": {},
     "output_type": "execute_result"
    }
   ],
   "source": [
    "resume_df = pd.DataFrame(resumeparser)\n",
    "resume_df"
   ]
  },
  {
   "cell_type": "code",
   "execution_count": null,
   "metadata": {},
   "outputs": [],
   "source": [
    "merged_inner = pd.merge(left=survey_sub, right=species_sub, left_on='species_id', right_on='species_id')"
   ]
  },
  {
   "cell_type": "code",
   "execution_count": null,
   "metadata": {},
   "outputs": [],
   "source": [
    "https://www.listendata.com/2018/05/named-entity-recognition-using-python.html"
   ]
  },
  {
   "cell_type": "code",
   "execution_count": 8,
   "metadata": {},
   "outputs": [
    {
     "data": {
      "text/plain": [
       "True"
      ]
     },
     "execution_count": 8,
     "metadata": {},
     "output_type": "execute_result"
    }
   ],
   "source": [
    "def skill_exists(skill):\n",
    "    url = f'https://api.promptapi.com/skills?q={skill}&count=1'\n",
    "    headers = {'apikey': 'API_KEY'}\n",
    "    response = requests.request('GET', url, headers=headers)\n",
    "    result = response.json()\n",
    "\n",
    "    if response.status_code == 200:\n",
    "        return len(result) > 0 and result[0].lower() == skill.lower()\n",
    "    raise Exception(result.get('message'))\n",
    "skill_exists('python')"
   ]
  },
  {
   "cell_type": "code",
   "execution_count": 14,
   "metadata": {},
   "outputs": [
    {
     "data": {
      "text/plain": [
       "200"
      ]
     },
     "execution_count": 14,
     "metadata": {},
     "output_type": "execute_result"
    }
   ],
   "source": [
    "import requests\n",
    "\n",
    "url = \"https://api.promptapi.com/skills?q=python\"\n",
    "\n",
    "payload = {}\n",
    "headers= {\n",
    "  \"apikey\": \"API_KEY\"\n",
    "}\n",
    "\n",
    "response = requests.request(\"GET\", url, headers=headers, data = payload)\n",
    "\n",
    "status_code = response.status_code\n",
    "result = response.text\n",
    "status_code\n",
    "# result"
   ]
  },
  {
   "cell_type": "code",
   "execution_count": null,
   "metadata": {},
   "outputs": [],
   "source": [
    "Metrics to work\n",
    "-Repetition\n",
    "-"
   ]
  }
 ],
 "metadata": {
  "kernelspec": {
   "display_name": "Python 3",
   "language": "python",
   "name": "python3"
  },
  "language_info": {
   "codemirror_mode": {
    "name": "ipython",
    "version": 3
   },
   "file_extension": ".py",
   "mimetype": "text/x-python",
   "name": "python",
   "nbconvert_exporter": "python",
   "pygments_lexer": "ipython3",
   "version": "3.8.5"
  }
 },
 "nbformat": 4,
 "nbformat_minor": 2
}
